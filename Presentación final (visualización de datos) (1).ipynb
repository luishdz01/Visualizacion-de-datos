{
 "cells": [
  {
   "cell_type": "markdown",
   "metadata": {},
   "source": [
    "# Casos positivos diarios de Covid en México\n",
    "\n",
    "Esta es la presentación final de la materia de Visualización de datos para la toma de decisiones.\n",
    "\n",
    "El analisis que se presentará a continuación, será acerca de los casos positivos que se tuvieron durante el mes de marzo del 2020 hasta el mes de agosto del año en curso de la actual pandemia en nuestro pais."
   ]
  },
  {
   "cell_type": "markdown",
   "metadata": {},
   "source": [
    "We need `seaborn`, which shall be included it in `requirements.txt` file"
   ]
  },
  {
   "cell_type": "markdown",
   "metadata": {},
   "source": [
    "# Descripción de conjunto de datos\n",
    "\n",
    "La fuente de la que provienen estos datos se trata de DataMéxico, un sitio web en el cual puedes explorar, visualizar, comparar, y desacargar datos mexicanos, ya sea de ciudades, lugares industrias y servicio. En este caso se tiene el registro de casos confirmados de coronavirus.\n",
    "\n",
    "Nombres de las variables:\n",
    "-Year\n",
    "-Querter ID\n",
    "-Month ID\n",
    "-Month\n",
    "-Day\n",
    "-Time ID\n",
    "-Time\n",
    "-Nation ID\n",
    "-Nation\n",
    "-Accum cases\n",
    "-AVG 7 Days Accum Cases\n",
    "-AVG 7 Days Daily Cases\n",
    "-Rate Daily Cases\n",
    "-Rate Accum Cases\n",
    "-Days from_50 cases\n",
    "-Style\n",
    "\n",
    "Tipos de variables:\n",
    "Dentro de la base de datos se encuentran variables categóricas como la nacionalidad (Nation ID y Nation), Month ID y Month. Style es una variable binaria. No hay ordinales. El resto de variables son numéricas,  de las cuales la mayoria son discretas, además hay unas pocas variables continuas."
   ]
  },
  {
   "cell_type": "markdown",
   "metadata": {},
   "source": [
    "Estas son algunas de las principales librerias que se usaran:"
   ]
  },
  {
   "cell_type": "code",
   "execution_count": 1,
   "metadata": {},
   "outputs": [],
   "source": [
    "import seaborn as sns; sns.set()\n",
    "import pandas as pd\n",
    "pd.set_option('max_columns', None)\n",
    "import re\n",
    "import matplotlib.pyplot as plt"
   ]
  },
  {
   "cell_type": "markdown",
   "metadata": {},
   "source": [
    "Se lee la base de datos que se utilizara para su análisis:"
   ]
  },
  {
   "cell_type": "code",
   "execution_count": 2,
   "metadata": {},
   "outputs": [
    {
     "data": {
      "text/html": [
       "<div>\n",
       "<style scoped>\n",
       "    .dataframe tbody tr th:only-of-type {\n",
       "        vertical-align: middle;\n",
       "    }\n",
       "\n",
       "    .dataframe tbody tr th {\n",
       "        vertical-align: top;\n",
       "    }\n",
       "\n",
       "    .dataframe thead th {\n",
       "        text-align: right;\n",
       "    }\n",
       "</style>\n",
       "<table border=\"1\" class=\"dataframe\">\n",
       "  <thead>\n",
       "    <tr style=\"text-align: right;\">\n",
       "      <th></th>\n",
       "      <th>Year</th>\n",
       "      <th>Quarter_ID</th>\n",
       "      <th>Quarter</th>\n",
       "      <th>Month_ID</th>\n",
       "      <th>Month</th>\n",
       "      <th>Day</th>\n",
       "      <th>Time_ID</th>\n",
       "      <th>Time</th>\n",
       "      <th>Nation_ID</th>\n",
       "      <th>Nation</th>\n",
       "      <th>Accum_Cases</th>\n",
       "      <th>Daily_Cases</th>\n",
       "      <th>AVG_7_Days_Accum_Cases</th>\n",
       "      <th>AVG_7_Days_Daily_Cases</th>\n",
       "      <th>Rate_Daily_Cases</th>\n",
       "      <th>Rate_Accum_Cases</th>\n",
       "      <th>Days_from_50_Cases</th>\n",
       "      <th>Style</th>\n",
       "    </tr>\n",
       "  </thead>\n",
       "  <tbody>\n",
       "    <tr>\n",
       "      <th>0</th>\n",
       "      <td>2020</td>\n",
       "      <td>1</td>\n",
       "      <td>Q1</td>\n",
       "      <td>3</td>\n",
       "      <td>2020-03</td>\n",
       "      <td>15</td>\n",
       "      <td>20200315</td>\n",
       "      <td>15/03/2020</td>\n",
       "      <td>mex</td>\n",
       "      <td>México</td>\n",
       "      <td>327</td>\n",
       "      <td>37</td>\n",
       "      <td>1.892857e+02</td>\n",
       "      <td>36.714287</td>\n",
       "      <td>0.028953</td>\n",
       "      <td>0.255884</td>\n",
       "      <td>10</td>\n",
       "      <td>solid</td>\n",
       "    </tr>\n",
       "    <tr>\n",
       "      <th>1</th>\n",
       "      <td>2020</td>\n",
       "      <td>1</td>\n",
       "      <td>Q1</td>\n",
       "      <td>3</td>\n",
       "      <td>2020-03</td>\n",
       "      <td>16</td>\n",
       "      <td>20200316</td>\n",
       "      <td>16/03/2020</td>\n",
       "      <td>mex</td>\n",
       "      <td>México</td>\n",
       "      <td>403</td>\n",
       "      <td>76</td>\n",
       "      <td>2.361429e+02</td>\n",
       "      <td>46.857143</td>\n",
       "      <td>0.059472</td>\n",
       "      <td>0.315356</td>\n",
       "      <td>11</td>\n",
       "      <td>solid</td>\n",
       "    </tr>\n",
       "    <tr>\n",
       "      <th>2</th>\n",
       "      <td>2020</td>\n",
       "      <td>1</td>\n",
       "      <td>Q1</td>\n",
       "      <td>3</td>\n",
       "      <td>2020-03</td>\n",
       "      <td>17</td>\n",
       "      <td>20200317</td>\n",
       "      <td>17/03/2020</td>\n",
       "      <td>mex</td>\n",
       "      <td>México</td>\n",
       "      <td>507</td>\n",
       "      <td>104</td>\n",
       "      <td>2.954286e+02</td>\n",
       "      <td>59.285713</td>\n",
       "      <td>0.081382</td>\n",
       "      <td>0.396738</td>\n",
       "      <td>12</td>\n",
       "      <td>solid</td>\n",
       "    </tr>\n",
       "    <tr>\n",
       "      <th>3</th>\n",
       "      <td>2020</td>\n",
       "      <td>1</td>\n",
       "      <td>Q1</td>\n",
       "      <td>3</td>\n",
       "      <td>2020-03</td>\n",
       "      <td>18</td>\n",
       "      <td>20200318</td>\n",
       "      <td>18/03/2020</td>\n",
       "      <td>mex</td>\n",
       "      <td>México</td>\n",
       "      <td>623</td>\n",
       "      <td>116</td>\n",
       "      <td>3.657143e+02</td>\n",
       "      <td>70.285713</td>\n",
       "      <td>0.090772</td>\n",
       "      <td>0.487510</td>\n",
       "      <td>13</td>\n",
       "      <td>solid</td>\n",
       "    </tr>\n",
       "    <tr>\n",
       "      <th>4</th>\n",
       "      <td>2020</td>\n",
       "      <td>1</td>\n",
       "      <td>Q1</td>\n",
       "      <td>3</td>\n",
       "      <td>2020-03</td>\n",
       "      <td>19</td>\n",
       "      <td>20200319</td>\n",
       "      <td>19/03/2020</td>\n",
       "      <td>mex</td>\n",
       "      <td>México</td>\n",
       "      <td>774</td>\n",
       "      <td>151</td>\n",
       "      <td>4.517143e+02</td>\n",
       "      <td>86.000000</td>\n",
       "      <td>0.118160</td>\n",
       "      <td>0.605670</td>\n",
       "      <td>14</td>\n",
       "      <td>solid</td>\n",
       "    </tr>\n",
       "    <tr>\n",
       "      <th>...</th>\n",
       "      <td>...</td>\n",
       "      <td>...</td>\n",
       "      <td>...</td>\n",
       "      <td>...</td>\n",
       "      <td>...</td>\n",
       "      <td>...</td>\n",
       "      <td>...</td>\n",
       "      <td>...</td>\n",
       "      <td>...</td>\n",
       "      <td>...</td>\n",
       "      <td>...</td>\n",
       "      <td>...</td>\n",
       "      <td>...</td>\n",
       "      <td>...</td>\n",
       "      <td>...</td>\n",
       "      <td>...</td>\n",
       "      <td>...</td>\n",
       "      <td>...</td>\n",
       "    </tr>\n",
       "    <tr>\n",
       "      <th>524</th>\n",
       "      <td>2021</td>\n",
       "      <td>3</td>\n",
       "      <td>Q3</td>\n",
       "      <td>8</td>\n",
       "      <td>2021-08</td>\n",
       "      <td>21</td>\n",
       "      <td>20210821</td>\n",
       "      <td>21/08/2021</td>\n",
       "      <td>mex</td>\n",
       "      <td>México</td>\n",
       "      <td>3246602</td>\n",
       "      <td>5533</td>\n",
       "      <td>3.206248e+06</td>\n",
       "      <td>14391.857420</td>\n",
       "      <td>4.329682</td>\n",
       "      <td>2540.530518</td>\n",
       "      <td>534</td>\n",
       "      <td>dashed</td>\n",
       "    </tr>\n",
       "    <tr>\n",
       "      <th>525</th>\n",
       "      <td>2021</td>\n",
       "      <td>3</td>\n",
       "      <td>Q3</td>\n",
       "      <td>8</td>\n",
       "      <td>2021-08</td>\n",
       "      <td>22</td>\n",
       "      <td>20210822</td>\n",
       "      <td>22/08/2021</td>\n",
       "      <td>mex</td>\n",
       "      <td>México</td>\n",
       "      <td>3250802</td>\n",
       "      <td>4200</td>\n",
       "      <td>3.220372e+06</td>\n",
       "      <td>14123.286130</td>\n",
       "      <td>3.286583</td>\n",
       "      <td>2543.817139</td>\n",
       "      <td>535</td>\n",
       "      <td>dashed</td>\n",
       "    </tr>\n",
       "    <tr>\n",
       "      <th>526</th>\n",
       "      <td>2021</td>\n",
       "      <td>3</td>\n",
       "      <td>Q3</td>\n",
       "      <td>8</td>\n",
       "      <td>2021-08</td>\n",
       "      <td>23</td>\n",
       "      <td>20210823</td>\n",
       "      <td>23/08/2021</td>\n",
       "      <td>mex</td>\n",
       "      <td>México</td>\n",
       "      <td>3264355</td>\n",
       "      <td>13553</td>\n",
       "      <td>3.233355e+06</td>\n",
       "      <td>12983.142580</td>\n",
       "      <td>10.605492</td>\n",
       "      <td>2554.422607</td>\n",
       "      <td>536</td>\n",
       "      <td>dashed</td>\n",
       "    </tr>\n",
       "    <tr>\n",
       "      <th>527</th>\n",
       "      <td>2021</td>\n",
       "      <td>3</td>\n",
       "      <td>Q3</td>\n",
       "      <td>8</td>\n",
       "      <td>2021-08</td>\n",
       "      <td>24</td>\n",
       "      <td>20210824</td>\n",
       "      <td>24/08/2021</td>\n",
       "      <td>mex</td>\n",
       "      <td>México</td>\n",
       "      <td>3271079</td>\n",
       "      <td>6724</td>\n",
       "      <td>3.244537e+06</td>\n",
       "      <td>11182.571290</td>\n",
       "      <td>5.261663</td>\n",
       "      <td>2559.684326</td>\n",
       "      <td>537</td>\n",
       "      <td>dashed</td>\n",
       "    </tr>\n",
       "    <tr>\n",
       "      <th>528</th>\n",
       "      <td>2021</td>\n",
       "      <td>3</td>\n",
       "      <td>Q3</td>\n",
       "      <td>8</td>\n",
       "      <td>2021-08</td>\n",
       "      <td>25</td>\n",
       "      <td>20210825</td>\n",
       "      <td>25/08/2021</td>\n",
       "      <td>mex</td>\n",
       "      <td>México</td>\n",
       "      <td>3271128</td>\n",
       "      <td>49</td>\n",
       "      <td>3.253116e+06</td>\n",
       "      <td>8579.142578</td>\n",
       "      <td>0.038343</td>\n",
       "      <td>2559.722656</td>\n",
       "      <td>538</td>\n",
       "      <td>dashed</td>\n",
       "    </tr>\n",
       "  </tbody>\n",
       "</table>\n",
       "<p>529 rows × 18 columns</p>\n",
       "</div>"
      ],
      "text/plain": [
       "     Year  Quarter_ID Quarter  Month_ID    Month  Day   Time_ID        Time  \\\n",
       "0    2020           1      Q1         3  2020-03   15  20200315  15/03/2020   \n",
       "1    2020           1      Q1         3  2020-03   16  20200316  16/03/2020   \n",
       "2    2020           1      Q1         3  2020-03   17  20200317  17/03/2020   \n",
       "3    2020           1      Q1         3  2020-03   18  20200318  18/03/2020   \n",
       "4    2020           1      Q1         3  2020-03   19  20200319  19/03/2020   \n",
       "..    ...         ...     ...       ...      ...  ...       ...         ...   \n",
       "524  2021           3      Q3         8  2021-08   21  20210821  21/08/2021   \n",
       "525  2021           3      Q3         8  2021-08   22  20210822  22/08/2021   \n",
       "526  2021           3      Q3         8  2021-08   23  20210823  23/08/2021   \n",
       "527  2021           3      Q3         8  2021-08   24  20210824  24/08/2021   \n",
       "528  2021           3      Q3         8  2021-08   25  20210825  25/08/2021   \n",
       "\n",
       "    Nation_ID  Nation  Accum_Cases  Daily_Cases  AVG_7_Days_Accum_Cases  \\\n",
       "0         mex  México          327           37            1.892857e+02   \n",
       "1         mex  México          403           76            2.361429e+02   \n",
       "2         mex  México          507          104            2.954286e+02   \n",
       "3         mex  México          623          116            3.657143e+02   \n",
       "4         mex  México          774          151            4.517143e+02   \n",
       "..        ...     ...          ...          ...                     ...   \n",
       "524       mex  México      3246602         5533            3.206248e+06   \n",
       "525       mex  México      3250802         4200            3.220372e+06   \n",
       "526       mex  México      3264355        13553            3.233355e+06   \n",
       "527       mex  México      3271079         6724            3.244537e+06   \n",
       "528       mex  México      3271128           49            3.253116e+06   \n",
       "\n",
       "     AVG_7_Days_Daily_Cases  Rate_Daily_Cases  Rate_Accum_Cases  \\\n",
       "0                 36.714287          0.028953          0.255884   \n",
       "1                 46.857143          0.059472          0.315356   \n",
       "2                 59.285713          0.081382          0.396738   \n",
       "3                 70.285713          0.090772          0.487510   \n",
       "4                 86.000000          0.118160          0.605670   \n",
       "..                      ...               ...               ...   \n",
       "524            14391.857420          4.329682       2540.530518   \n",
       "525            14123.286130          3.286583       2543.817139   \n",
       "526            12983.142580         10.605492       2554.422607   \n",
       "527            11182.571290          5.261663       2559.684326   \n",
       "528             8579.142578          0.038343       2559.722656   \n",
       "\n",
       "     Days_from_50_Cases   Style  \n",
       "0                    10   solid  \n",
       "1                    11   solid  \n",
       "2                    12   solid  \n",
       "3                    13   solid  \n",
       "4                    14   solid  \n",
       "..                  ...     ...  \n",
       "524                 534  dashed  \n",
       "525                 535  dashed  \n",
       "526                 536  dashed  \n",
       "527                 537  dashed  \n",
       "528                 538  dashed  \n",
       "\n",
       "[529 rows x 18 columns]"
      ]
     },
     "execution_count": 2,
     "metadata": {},
     "output_type": "execute_result"
    }
   ],
   "source": [
    "df= pd.read_csv('datasets/Casos-positivos-diarios-en-Mexico-Promedio-movil-de-7-dias.csv')\n",
    "df"
   ]
  },
  {
   "cell_type": "markdown",
   "metadata": {},
   "source": [
    "# Meses con mas contagios\n",
    "\n",
    "En la siguiente grafica se comparan los casos diarios con respecto a los meses, a simple vista se pudiera interpretar que no se tiene una correlación. \n",
    "Sin embargo, lo que se quiere responder con este grafico es *¿Cuales meses del año se tiene mayor contagio?.*\n",
    "Y para esto hay que identificar los valores atipicos que se tienen, los cuales son los numeros de contagios más altos, y si los interpretamos correctamente, se puede ver que los meses con más contagios son: Junio, Julio, Diciembre y Enero; Los cuales son los meses de vacaciones.\n",
    "\n",
    "Lo que lleva a concluir que los meses anterior mensionados hay más riesgos de contagio, debido a que las personas suelen salir más durante esas epocas del año."
   ]
  },
  {
   "cell_type": "code",
   "execution_count": 3,
   "metadata": {},
   "outputs": [
    {
     "data": {
      "image/png": "[encoded data removed]",
      "text/plain": [
       "<Figure size 360x360 with 1 Axes>"
      ]
     },
     "metadata": {},
     "output_type": "display_data"
    }
   ],
   "source": [
    "sns.lmplot(x= 'Month_ID',\n",
    "          y = 'Daily_Cases',\n",
    "          data = df)\n",
    "\n",
    "plt.show()"
   ]
  },
  {
   "cell_type": "markdown",
   "metadata": {},
   "source": [
    "# Contagios diarios y dia de pandemia\n",
    "\n",
    "La siguiente regresión de la grafica de dispersión muestra que tan relacionado esta el promedio de casos acumulados de 7 dias, y el número del dia de la pandemia desde que se tuvo el contaio número 50.\n",
    "En la cual se ve que se correlacioan bastante."
   ]
  },
  {
   "cell_type": "code",
   "execution_count": 4,
   "metadata": {},
   "outputs": [
    {
     "data": {
      "image/png": "[encoded data removed]",
      "text/plain": [
       "<Figure size 360x360 with 1 Axes>"
      ]
     },
     "metadata": {},
     "output_type": "display_data"
    }
   ],
   "source": [
    "sns.lmplot(x= 'Days_from_50_Cases',\n",
    "          y = 'AVG_7_Days_Accum_Cases',\n",
    "          data = df)\n",
    "\n",
    "plt.show()"
   ]
  },
  {
   "cell_type": "markdown",
   "metadata": {},
   "source": [
    "Con esta correlación se puede verificar lo visto graficamente anteriormente, pues la correlación entre más cercano a 1 o -1 más fuerte es."
   ]
  },
  {
   "cell_type": "code",
   "execution_count": 5,
   "metadata": {},
   "outputs": [
    {
     "data": {
      "text/html": [
       "<div>\n",
       "<style scoped>\n",
       "    .dataframe tbody tr th:only-of-type {\n",
       "        vertical-align: middle;\n",
       "    }\n",
       "\n",
       "    .dataframe tbody tr th {\n",
       "        vertical-align: top;\n",
       "    }\n",
       "\n",
       "    .dataframe thead th {\n",
       "        text-align: right;\n",
       "    }\n",
       "</style>\n",
       "<table border=\"1\" class=\"dataframe\">\n",
       "  <thead>\n",
       "    <tr style=\"text-align: right;\">\n",
       "      <th></th>\n",
       "      <th>Days_from_50_Cases</th>\n",
       "      <th>AVG_7_Days_Accum_Cases</th>\n",
       "    </tr>\n",
       "  </thead>\n",
       "  <tbody>\n",
       "    <tr>\n",
       "      <th>Days_from_50_Cases</th>\n",
       "      <td>1.000000</td>\n",
       "      <td>0.990389</td>\n",
       "    </tr>\n",
       "    <tr>\n",
       "      <th>AVG_7_Days_Accum_Cases</th>\n",
       "      <td>0.990389</td>\n",
       "      <td>1.000000</td>\n",
       "    </tr>\n",
       "  </tbody>\n",
       "</table>\n",
       "</div>"
      ],
      "text/plain": [
       "                        Days_from_50_Cases  AVG_7_Days_Accum_Cases\n",
       "Days_from_50_Cases                1.000000                0.990389\n",
       "AVG_7_Days_Accum_Cases            0.990389                1.000000"
      ]
     },
     "execution_count": 5,
     "metadata": {},
     "output_type": "execute_result"
    }
   ],
   "source": [
    "vars=['Days_from_50_Cases','AVG_7_Days_Accum_Cases']\n",
    "relacion=df[vars]\n",
    "\n",
    "relacion[vars].corr()"
   ]
  },
  {
   "cell_type": "markdown",
   "metadata": {},
   "source": [
    "# Predicción\n",
    "\n",
    "En base a lo analizado anteriormente, y con el fin de poder saber ¿Cuantos contagios se tendrán en una fecha especifica?\n",
    "\n",
    "Se realiza una predicción en la que se obtienen los numeros de casos positivos a covid en México en base a los dias transucurridos despues del contagio número 50"
   ]
  },
  {
   "cell_type": "code",
   "execution_count": 6,
   "metadata": {},
   "outputs": [
    {
     "data": {
      "text/plain": [
       "array([[1517102.27744298]])"
      ]
     },
     "execution_count": 6,
     "metadata": {},
     "output_type": "execute_result"
    }
   ],
   "source": [
    "from sklearn import linear_model\n",
    "\n",
    "lm = linear_model.LinearRegression()\n",
    "X = pd.DataFrame (df['Days_from_50_Cases'])\n",
    "Y = pd.DataFrame (df['AVG_7_Days_Accum_Cases'])\n",
    "\n",
    "model_lm = lm.fit(X,Y)\n",
    "model_lm\n",
    "\n",
    "days_from_50_cases = pd.DataFrame([300])\n",
    "predict_AVG_7_days_Accum_Cases = model_lm.predict(days_from_50_cases)\n",
    "predict_AVG_7_days_Accum_Cases"
   ]
  },
  {
   "cell_type": "markdown",
   "metadata": {},
   "source": [
    "# Frecuencia de contagios diarios\n",
    "\n",
    "Con el siguiente box plot e hsitgorama, podemos ver la frecuencia de contagios diarios que se tiene, y se puede interpretar que normalmente se tienen contagiso diarios de entre 2.5 y 7.5 miles de casos positivos, siendo lo más común que se tengan cerca de 5k casos. sin embargo se tienen registros de más de 15,000 personas contagiadas diariamente, e incluso alcanzado más de 20,000 por dia."
   ]
  },
  {
   "cell_type": "code",
   "execution_count": 7,
   "metadata": {},
   "outputs": [
    {
     "data": {
      "image/png": "[encoded data removed]",
      "text/plain": [
       "<Figure size 720x360 with 2 Axes>"
      ]
     },
     "metadata": {},
     "output_type": "display_data"
    },
    {
     "data": {
      "text/plain": [
       "<Figure size 720x360 with 0 Axes>"
      ]
     },
     "metadata": {},
     "output_type": "display_data"
    }
   ],
   "source": [
    "plt.figure(figsize=(10,5))\n",
    "\n",
    "plt.subplot(1,2,1)\n",
    "plt.hist(df['Daily_Cases'],bins= 20)\n",
    "plt.title('Casos diarios')\n",
    "\n",
    "plt.subplot(1,2,2)\n",
    "sns.boxplot(data=df.loc[:,['Daily_Cases']])\n",
    "plt.figure(figsize = (10,5))\n",
    "sns.set(font_scale=1.5)\n",
    "plt.show()"
   ]
  },
  {
   "cell_type": "markdown",
   "metadata": {},
   "source": [
    "# Conclusiones\n",
    "\n"
   ]
  },
  {
   "cell_type": "markdown",
   "metadata": {},
   "source": [
    "Gracias al analisis de datos de la base de contagios positivos diarios, podemos concluir que:\n",
    "    -Normalemnte se tiene cerca de 5000 casos positivos diarios\n",
    "    -Los meses de Junio, Julio, Diciembre y Enero hay más riesgos de contagio, debido a que las personas suelen salir más durante esas epocas del año.\n",
    "    -Se pueden predecir un aproximado de los contagios en base a un dia especifico, debido a la correlación que estos tienen."
   ]
  },
  {
   "cell_type": "code",
   "execution_count": null,
   "metadata": {},
   "outputs": [],
   "source": []
  }
 ],
 "metadata": {
  "kernelspec": {
   "display_name": "Python 3",
   "language": "python",
   "name": "python3"
  },
  "language_info": {
   "codemirror_mode": {
    "name": "ipython",
    "version": 3
   },
   "file_extension": ".py",
   "mimetype": "text/x-python",
   "name": "python",
   "nbconvert_exporter": "python",
   "pygments_lexer": "ipython3",
   "version": "3.7.10"
  }
 },
 "nbformat": 4,
 "nbformat_minor": 4
}
